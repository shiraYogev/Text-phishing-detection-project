{
  "nbformat": 4,
  "nbformat_minor": 0,
  "metadata": {
    "colab": {
      "provenance": []
    },
    "kernelspec": {
      "name": "python3",
      "display_name": "Python 3"
    },
    "language_info": {
      "name": "python"
    }
  },
  "cells": [
    {
      "cell_type": "markdown",
      "source": [
        "# **SimpleClassifier**\n",
        "\n",
        "The Simple Classifier is a simple Neural Network.The text data is converted into numeric features, and a PyTorch based model is trained to make predictions.\n"
      ],
      "metadata": {
        "id": "YdFYuCQQ918w"
      }
    },
    {
      "cell_type": "code",
      "execution_count": null,
      "metadata": {
        "id": "tVFOOGp49vj5"
      },
      "outputs": [],
      "source": [
        "import torch.nn as nn\n",
        "import torch.optim as optim\n",
        "\n",
        "# Define a simple classifier\n",
        "class SimpleClassifier(nn.Module):\n",
        "    def __init__(self, input_dim, num_classes):\n",
        "        super(SimpleClassifier, self).__init__()\n",
        "        self.fc = nn.Linear(input_dim, num_classes)\n",
        "\n",
        "    def forward(self, x):\n",
        "        return self.fc(x)\n",
        "\n",
        "# Instantiate the model\n",
        "input_dim = X_train.shape[1]  # Number of features\n",
        "num_classes = len(torch.unique(y))  # Number of unique labels\n",
        "classifier = SimpleClassifier(input_dim, num_classes).to(device)\n",
        "\n",
        "# Loss and optimizer\n",
        "criterion = nn.CrossEntropyLoss()\n",
        "optimizer = optim.Adam(classifier.parameters(), lr=0.001)\n",
        "\n",
        "# Training loop\n",
        "num_epochs = 10\n",
        "batch_size = 32\n",
        "\n",
        "for epoch in range(num_epochs):\n",
        "    classifier.train()\n",
        "    permutation = torch.randperm(X_train.size(0))\n",
        "    total_loss = 0\n",
        "\n",
        "    for i in range(0, X_train.size(0), batch_size):\n",
        "        indices = permutation[i:i + batch_size]\n",
        "        batch_x, batch_y = X_train[indices].to(device), y_train[indices].to(device)\n",
        "\n",
        "        optimizer.zero_grad()\n",
        "        outputs = classifier(batch_x)\n",
        "        loss = criterion(outputs, batch_y)\n",
        "        loss.backward()\n",
        "        optimizer.step()\n",
        "\n",
        "        total_loss += loss.item()\n",
        "\n",
        "    print(f\"Epoch {epoch + 1}/{num_epochs}, Loss: {total_loss:.4f}\")\n",
        "\n",
        "# Evaluate the model\n",
        "classifier.eval()\n",
        "with torch.no_grad():\n",
        "    y_pred = []\n",
        "    for i in range(0, X_test.size(0), batch_size):\n",
        "        batch_x = X_test[i:i + batch_size].to(device)\n",
        "        outputs = classifier(batch_x)\n",
        "        y_pred.extend(torch.argmax(outputs, dim=1).cpu().numpy())\n",
        "\n",
        "# Calculate accuracy\n",
        "y_pred = torch.tensor(y_pred)\n",
        "accuracy = (y_pred == y_test).sum().item() / y_test.size(0) * 100\n",
        "print(f\"Accuracy: {accuracy:.2f}%\")\n",
        "\n",
        "\n",
        "# Convert PyTorch tensors to numpy arrays for the classification report\n",
        "y_test_numpy = y_test.cpu().numpy()\n",
        "y_pred_numpy = y_pred.cpu().numpy()\n",
        "\n",
        "# Print classification report\n",
        "print(\"\\nClassification Report:\")\n",
        "from sklearn.metrics import classification_report\n",
        "print(classification_report(y_test_numpy, y_pred_numpy, target_names=[\"Legitimate\", \"Phishing\"]))\n"
      ]
    },
    {
      "cell_type": "markdown",
      "source": [
        "```\n",
        "Epoch 1/10, Loss: 135.7253\n",
        "Epoch 2/10, Loss: 86.0259\n",
        "Epoch 3/10, Loss: 76.9326\n",
        "Epoch 4/10, Loss: 71.6313\n",
        "Epoch 5/10, Loss: 67.7272\n",
        "Epoch 6/10, Loss: 65.0329\n",
        "Epoch 7/10, Loss: 63.2318\n",
        "Epoch 8/10, Loss: 60.9002\n",
        "Epoch 9/10, Loss: 59.4647\n",
        "Epoch 10/10, Loss: 57.7541\n",
        "Accuracy: 96.33%\n",
        "\n",
        "Classification Report:\n",
        "              precision    recall  f1-score   support\n",
        "\n",
        "  Legitimate       0.97      0.97      0.97      2493\n",
        "    Phishing       0.96      0.95      0.95      1535\n",
        "\n",
        "    accuracy                           0.96      4028\n",
        "   macro avg       0.96      0.96      0.96      4028\n",
        "weighted avg       0.96      0.96      0.96      4028\n",
        "\n",
        "```\n",
        "\n"
      ],
      "metadata": {
        "id": "q-fD4Hrz-YuZ"
      }
    }
  ]
}